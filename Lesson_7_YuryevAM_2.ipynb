{
 "cells": [
  {
   "cell_type": "markdown",
   "id": "fe319178",
   "metadata": {},
   "source": [
    "# Урок 7"
   ]
  },
  {
   "cell_type": "markdown",
   "id": "db9e7efc",
   "metadata": {},
   "source": [
    "## Задание 2."
   ]
  },
  {
   "cell_type": "markdown",
   "id": "b3188816",
   "metadata": {},
   "source": [
    "Написать функцию подсчета метрики качества кластеризации как среднее квадратичное внутрикластерное расстояние и построить график ее зависимости от k (взять от 1 до 10) для выборки данных из данного урока."
   ]
  },
  {
   "cell_type": "code",
   "execution_count": 1,
   "id": "bfa7ed0d",
   "metadata": {},
   "outputs": [],
   "source": [
    "import numpy as np\n",
    "from sklearn import model_selection\n",
    "from sklearn.datasets import load_iris\n",
    "import matplotlib.pyplot as plt\n",
    "import matplotlib\n",
    "%matplotlib inline\n",
    "from matplotlib.colors import ListedColormap"
   ]
  },
  {
   "cell_type": "markdown",
   "id": "8b544a74",
   "metadata": {
    "colab_type": "text",
    "id": "xDbkTkTYuf_F"
   },
   "source": [
    "Вначале сгенерируем три облака точек с помощью инструментов `sklearn`."
   ]
  },
  {
   "cell_type": "code",
   "execution_count": 2,
   "id": "ac6ca4d7",
   "metadata": {
    "colab": {},
    "colab_type": "code",
    "id": "qRhCTQdZuf_G"
   },
   "outputs": [],
   "source": [
    "from sklearn.datasets import make_blobs\n",
    "import random\n",
    "\n",
    "X, y = make_blobs(n_samples=100, random_state=1)"
   ]
  },
  {
   "cell_type": "markdown",
   "id": "3e8c010e",
   "metadata": {
    "colab_type": "text",
    "id": "Vv0J1xcDuf_H"
   },
   "source": [
    "Изобразим точки на графике."
   ]
  },
  {
   "cell_type": "code",
   "execution_count": 3,
   "id": "a5822147",
   "metadata": {
    "colab": {},
    "colab_type": "code",
    "id": "I6VqFOARuf_I",
    "outputId": "0b4f8980-a699-4bc3-9256-6c6f6d029839"
   },
   "outputs": [
    {
     "data": {
      "text/plain": [
       "<matplotlib.collections.PathCollection at 0x2cf01464340>"
      ]
     },
     "execution_count": 3,
     "metadata": {},
     "output_type": "execute_result"
    },
    {
     "data": {
      "image/png": "[encoded data removed]",
      "text/plain": [
       "<Figure size 504x504 with 1 Axes>"
      ]
     },
     "metadata": {
      "needs_background": "light"
     },
     "output_type": "display_data"
    }
   ],
   "source": [
    "plt.figure(figsize=(7,7))\n",
    "plt.scatter(X[:, 0], X[:, 1])"
   ]
  },
  {
   "cell_type": "markdown",
   "id": "48fd8d44",
   "metadata": {
    "colab_type": "text",
    "id": "a421abi0uf_L"
   },
   "source": [
    "В качестве метрики расстояния будем использовать евклидово расстояние. "
   ]
  },
  {
   "cell_type": "code",
   "execution_count": 4,
   "id": "1e795ce1",
   "metadata": {
    "colab": {},
    "colab_type": "code",
    "id": "MKipIKeGuf-P"
   },
   "outputs": [],
   "source": [
    "def e_metrics(x1, x2):\n",
    "    distance = 0\n",
    "    for i in range(len(x1)):\n",
    "        distance += np.square(x1[i] - x2[i])\n",
    "    \n",
    "    return np.sqrt(distance)"
   ]
  },
  {
   "cell_type": "markdown",
   "id": "80083976",
   "metadata": {},
   "source": [
    "В качестве центроидов выберем первые k элементов датасета. Реализуем основной цикл алгоритма."
   ]
  },
  {
   "cell_type": "code",
   "execution_count": 5,
   "id": "ec6aee48",
   "metadata": {
    "colab": {},
    "colab_type": "code",
    "id": "7LSTomiyuf_L"
   },
   "outputs": [],
   "source": [
    "def kmeans(data, k, max_iterations, min_distance):    \n",
    "    # инициализируем центроиды как первые k элементов датасета\n",
    "    centroids = [data[i] for i in range(k)]\n",
    "    \n",
    "    for _ in range(max_iterations):\n",
    "        # Создадим словарь для классификации\n",
    "        classes = {i: [] for i in range(k)}\n",
    "        \n",
    "        # классифицируем объекты по центроидам\n",
    "        for x in data:\n",
    "            # определим расстояния от объекта до каждого центроида\n",
    "            distances = [e_metrics(x, centroid) for centroid in centroids]\n",
    "            # отнесем объект к кластеру, до центроида которого наименьшее расстояние\n",
    "            classification = distances.index(min(distances))\n",
    "            classes[classification].append(x)\n",
    "        \n",
    "        # сохраним предыдущие центроиды в отдельный список для последующего сравнения сновыми\n",
    "        old_centroids = centroids.copy()\n",
    "        \n",
    "        # пересчитаем центроиды как среднее по кластерам\n",
    "        for classification in classes:\n",
    "            centroids[classification] = np.average(classes[classification], axis=0)\n",
    "            \n",
    "        # сравним величину смещения центроидов с минимальной\n",
    "        optimal = True\n",
    "        for centroid in range(len(centroids)):\n",
    "            if np.sum(abs((centroids[centroid] - old_centroids[centroid]) / old_centroids * 100)) > min_distance:\n",
    "                optimal = False\n",
    "                \n",
    "        # если все смещения меньше минимального, останавливаем алгоритм  \n",
    "        if optimal:\n",
    "            break\n",
    "    \n",
    "    return old_centroids, classes"
   ]
  },
  {
   "cell_type": "code",
   "execution_count": 6,
   "id": "5a0a4b32",
   "metadata": {},
   "outputs": [],
   "source": [
    "def kmeans_predict(centroids, data):    \n",
    "    # инициализируем центроиды как первые k элементов датасета\n",
    "    classes = [i for i in range(len(centroids))]\n",
    "    label = []\n",
    "    # классифицируем объекты по центроидам\n",
    "    for x in data:\n",
    "            # определим расстояния от объекта до каждого центроида\n",
    "            distances = [e_metrics(x, centroid) for centroid in centroids]\n",
    "            # отнесем объект к кластеру, до центроида которого наименьшее расстояние\n",
    "            classification = distances.index(min(distances))\n",
    "            #print(classification)\n",
    "            label.append(classification)\n",
    "    return label"
   ]
  },
  {
   "cell_type": "markdown",
   "id": "023b5d42",
   "metadata": {
    "colab_type": "text",
    "id": "hF5nlCxFuf_O"
   },
   "source": [
    "Напишем функцию для визуализации кластеров"
   ]
  },
  {
   "cell_type": "code",
   "execution_count": 7,
   "id": "59fe5e28",
   "metadata": {
    "colab": {},
    "colab_type": "code",
    "id": "D5RysDcPuf_O"
   },
   "outputs": [],
   "source": [
    "def visualize(centroids, classes):\n",
    "    colors = ['r', 'g', 'b']\n",
    "    \n",
    "    plt.figure(figsize=(7,7))\n",
    "    \n",
    "    # нанесем на график центроиды\n",
    "    for centroid in centroids:\n",
    "        plt.scatter(centroid[0], centroid[1], marker='x', s=130, c='black')\n",
    "        \n",
    "    # нанесем объекты раскрашенные по классам\n",
    "    for class_item in classes:\n",
    "        for x in classes[class_item]:\n",
    "            plt.scatter(x[0], x[1], color=colors[class_item])\n",
    "    plt.grid(True)        \n",
    "    plt.show()"
   ]
  },
  {
   "cell_type": "code",
   "execution_count": 8,
   "id": "522acd49",
   "metadata": {
    "colab": {},
    "colab_type": "code",
    "id": "Hsy8q0FOuf_Q"
   },
   "outputs": [],
   "source": [
    "# определим максимальное количество итераций\n",
    "max_iterations = 1\n",
    "\n",
    "# и минимальное расстояние между центроидами до пересчета и после него, при котором нужно остановить алгоритм\n",
    "min_distance = 1e-4\n",
    "\n",
    "# сразу определим известное нам количество кластеров\n",
    "k = 3"
   ]
  },
  {
   "cell_type": "markdown",
   "id": "c1d3f207",
   "metadata": {},
   "source": [
    "Напишем функцию вычисления метрики качества кластеризации как среднее квадратичное внутрикластерное расстояние"
   ]
  },
  {
   "cell_type": "code",
   "execution_count": 9,
   "id": "d1b02bab",
   "metadata": {},
   "outputs": [],
   "source": [
    "def clustering_quality_metric(cluster):\n",
    "    square_distances = [e_metrics(p1, p2)**2 for p1, p2 in combinations(cluster, 2)]\n",
    "\n",
    "    return sum(square_distances) / len(square_distances)"
   ]
  },
  {
   "cell_type": "markdown",
   "id": "acd340e7",
   "metadata": {
    "colab_type": "text",
    "id": "ykFQU-1guf_S"
   },
   "source": [
    "Проверим результат алгоритма после одной итерации"
   ]
  },
  {
   "cell_type": "code",
   "execution_count": 10,
   "id": "7bc06ae8",
   "metadata": {
    "colab": {},
    "colab_type": "code",
    "id": "DzJTqoBuuf_T",
    "outputId": "7b5eb959-2373-4657-f33d-e6f40a2ecd4c"
   },
   "outputs": [
    {
     "data": {
      "image/png": "[encoded data removed]",
      "text/plain": [
       "<Figure size 504x504 with 1 Axes>"
      ]
     },
     "metadata": {
      "needs_background": "light"
     },
     "output_type": "display_data"
    }
   ],
   "source": [
    "centroids, clusters = kmeans(X, k, max_iterations, min_distance)\n",
    "\n",
    "visualize(centroids, clusters)"
   ]
  },
  {
   "cell_type": "markdown",
   "id": "6fde7471",
   "metadata": {
    "colab_type": "text",
    "id": "3_Zi1CuPuf_W"
   },
   "source": [
    "Проверим работу алгоритма при различном числе итераций."
   ]
  },
  {
   "cell_type": "code",
   "execution_count": 11,
   "id": "4c7e6d6d",
   "metadata": {
    "colab": {},
    "colab_type": "code",
    "id": "Rt7c3Vdxuf_X",
    "outputId": "f95a9a45-7366-4837-fece-6e25d9163c8b"
   },
   "outputs": [
    {
     "data": {
      "image/png": "[encoded data removed]",
      "text/plain": [
       "<Figure size 504x504 with 1 Axes>"
      ]
     },
     "metadata": {
      "needs_background": "light"
     },
     "output_type": "display_data"
    }
   ],
   "source": [
    "max_iterations = 3\n",
    "\n",
    "centroids, clusters = kmeans(X, k, max_iterations, min_distance)\n",
    "\n",
    "visualize(centroids, clusters)"
   ]
  },
  {
   "cell_type": "code",
   "execution_count": 12,
   "id": "6502c4e7",
   "metadata": {},
   "outputs": [],
   "source": [
    "from itertools import combinations\n",
    "\n"
   ]
  },
  {
   "cell_type": "code",
   "execution_count": 13,
   "id": "1ba74e3d",
   "metadata": {},
   "outputs": [
    {
     "data": {
      "text/plain": [
       "numpy.ndarray"
      ]
     },
     "execution_count": 13,
     "metadata": {},
     "output_type": "execute_result"
    }
   ],
   "source": [
    "type(clusters[0][1])"
   ]
  },
  {
   "cell_type": "code",
   "execution_count": 14,
   "id": "c3c1ccdd",
   "metadata": {
    "colab": {},
    "colab_type": "code",
    "id": "YfMBMBlQuf_a",
    "outputId": "959c1659-47cd-4df4-af49-74d2f591a3b7"
   },
   "outputs": [
    {
     "data": {
      "image/png": "[encoded data removed]",
      "text/plain": [
       "<Figure size 504x504 with 1 Axes>"
      ]
     },
     "metadata": {
      "needs_background": "light"
     },
     "output_type": "display_data"
    }
   ],
   "source": [
    "max_iterations = 5\n",
    "\n",
    "centroids, clusters = kmeans(X, k, max_iterations, min_distance)\n",
    "\n",
    "visualize(centroids, clusters)"
   ]
  },
  {
   "cell_type": "code",
   "execution_count": 15,
   "id": "518e6735",
   "metadata": {
    "colab": {},
    "colab_type": "code",
    "id": "tfdoJFyUuf_c",
    "outputId": "536aeb9d-4b54-4333-867e-1473a026deae"
   },
   "outputs": [
    {
     "data": {
      "image/png": "[encoded data removed]",
      "text/plain": [
       "<Figure size 504x504 with 1 Axes>"
      ]
     },
     "metadata": {
      "needs_background": "light"
     },
     "output_type": "display_data"
    }
   ],
   "source": [
    "max_iterations = 10\n",
    "\n",
    "centroids, clusters = kmeans(X, k, max_iterations, min_distance)\n",
    "\n",
    "visualize(centroids, clusters)"
   ]
  },
  {
   "cell_type": "markdown",
   "id": "19de5f6a",
   "metadata": {
    "colab_type": "text",
    "id": "K_E1dFmeuf_e"
   },
   "source": [
    "Видно, как при увеличении количества итераций центроиды перемещаются в центр образующихся кластеров."
   ]
  },
  {
   "cell_type": "code",
   "execution_count": 16,
   "id": "0ce838da",
   "metadata": {},
   "outputs": [],
   "source": [
    "def get_clast( h = 0.2,xminmax = [], yminmax=[], centroids =[]):\n",
    "    cmap_light = ListedColormap(['#FFAAAA', '#AAFFAA','#00AAFF','#000AFF','#A00AFF','#BB0AFF'])\n",
    "\n",
    "    # Расчет пределов графика\n",
    "    xx, yy = np.meshgrid(np.arange(xminmax[0], xminmax[1], h), np.arange(yminmax[0], yminmax[1], h))\n",
    "\n",
    "    # Получим предсказания для всех точек\n",
    "    Z =  kmeans_predict(centroids, np.c_[xx.ravel(), yy.ravel()])\n",
    "\n",
    "    # Построим график\n",
    "    Z = np.array(Z).reshape(xx.shape)\n",
    "    plt.figure(figsize=(7,7))\n",
    "    plt.pcolormesh(xx, yy, Z, cmap=cmap_light)\n",
    "    for centroid in centroids:\n",
    "            plt.plot(centroid[0], centroid[1],'xk')\n",
    "    \n",
    "\n",
    "    # Добавим на график обучающую выборку\n",
    "    plt.xlim(xx.min(), xx.max())\n",
    "    plt.ylim(yy.min(), yy.max())\n",
    "    plt.title(\"кластеризация  \")\n",
    "    plt.show()"
   ]
  },
  {
   "cell_type": "code",
   "execution_count": 17,
   "id": "c79862b6",
   "metadata": {},
   "outputs": [
    {
     "name": "stderr",
     "output_type": "stream",
     "text": [
      "C:\\Users\\YURYEV~1\\AppData\\Local\\Temp/ipykernel_8796/2673670281.py:13: MatplotlibDeprecationWarning: shading='flat' when X and Y have the same dimensions as C is deprecated since 3.3.  Either specify the corners of the quadrilaterals with X and Y, or pass shading='auto', 'nearest' or 'gouraud', or set rcParams['pcolor.shading'].  This will become an error two minor releases later.\n",
      "  plt.pcolormesh(xx, yy, Z, cmap=cmap_light)\n"
     ]
    },
    {
     "data": {
      "image/png": "[encoded data removed]",
      "text/plain": [
       "<Figure size 504x504 with 1 Axes>"
      ]
     },
     "metadata": {
      "needs_background": "light"
     },
     "output_type": "display_data"
    }
   ],
   "source": [
    "get_clast( h = 0.2,xminmax = [-15,5], yminmax=[-10,10], centroids =centroids)"
   ]
  },
  {
   "cell_type": "markdown",
   "id": "aa804d7c",
   "metadata": {},
   "source": [
    "Вычислим метрику качества кластеризации и построим график для разных k"
   ]
  },
  {
   "cell_type": "code",
   "execution_count": 18,
   "id": "a8ba7960",
   "metadata": {},
   "outputs": [
    {
     "name": "stdout",
     "output_type": "stream",
     "text": [
      "[83.19502581221147, 11.075664111511076, 3.2179064076975137, 2.518466124203024, 1.986104971137981, 2.126303913541743, 1.7733943640281926, 1.608220091884682, 1.512224701321486, 1.3351112294960998]\n"
     ]
    }
   ],
   "source": [
    "max_k = 11\n",
    "avg_q_m = []\n",
    "\n",
    "for k in range(1,max_k):\n",
    "    centroids, clusters = kmeans(X, k, max_iterations, min_distance)    \n",
    "\n",
    "    clustering_quality_metrics = [clustering_quality_metric(clusters[i]) for i in clusters.keys()]\n",
    "    avg_q_m.append(sum(clustering_quality_metrics)/k)\n",
    "\n",
    "print(avg_q_m)"
   ]
  },
  {
   "cell_type": "code",
   "execution_count": 19,
   "id": "cfe9ff2e",
   "metadata": {},
   "outputs": [
    {
     "data": {
      "text/plain": [
       "[<matplotlib.lines.Line2D at 0x2cf04116310>]"
      ]
     },
     "execution_count": 19,
     "metadata": {},
     "output_type": "execute_result"
    },
    {
     "data": {
      "image/png": "[encoded data removed]",
      "text/plain": [
       "<Figure size 432x288 with 1 Axes>"
      ]
     },
     "metadata": {
      "needs_background": "light"
     },
     "output_type": "display_data"
    }
   ],
   "source": [
    "plt.xlabel('x')\n",
    "plt.ylabel('sigmoid(x)')\n",
    "plt.grid()\n",
    "plt.plot(range(1,max_k), avg_q_m)"
   ]
  },
  {
   "cell_type": "markdown",
   "id": "6c566ff0",
   "metadata": {},
   "source": [
    "Мы видим, что для k = 3 метрика качества выходит на стабильное значение."
   ]
  }
 ],
 "metadata": {
  "kernelspec": {
   "display_name": "Python 3 (ipykernel)",
   "language": "python",
   "name": "python3"
  },
  "language_info": {
   "codemirror_mode": {
    "name": "ipython",
    "version": 3
   },
   "file_extension": ".py",
   "mimetype": "text/x-python",
   "name": "python",
   "nbconvert_exporter": "python",
   "pygments_lexer": "ipython3",
   "version": "3.9.7"
  }
 },
 "nbformat": 4,
 "nbformat_minor": 5
}
