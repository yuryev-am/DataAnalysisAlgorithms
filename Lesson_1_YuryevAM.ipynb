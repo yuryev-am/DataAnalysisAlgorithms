{
 "cells": [
  {
   "cell_type": "markdown",
   "metadata": {},
   "source": [
    "## Урок 1. Алгоритм линейной регрессии. Градиентный спуск"
   ]
  },
  {
   "cell_type": "code",
   "execution_count": 1,
   "metadata": {
    "colab": {},
    "colab_type": "code",
    "id": "ak8b3KV45kVW"
   },
   "outputs": [],
   "source": [
    "import numpy as np\n",
    "import matplotlib.pyplot as plt"
   ]
  },
  {
   "cell_type": "markdown",
   "metadata": {},
   "source": [
    "__Задача:__ предсказание баллов ЕГЭ ученика в зависимости от кол-ва лет стажа его репетитора"
   ]
  },
  {
   "cell_type": "code",
   "execution_count": 2,
   "metadata": {
    "colab": {},
    "colab_type": "code",
    "id": "i77tZbAd5plB"
   },
   "outputs": [
    {
     "data": {
      "text/plain": [
       "array([[ 1,  1,  1,  1,  1,  1,  1,  1,  1,  1],\n",
       "       [ 1,  1,  2,  5,  3,  0,  5, 10,  1,  2]])"
      ]
     },
     "execution_count": 2,
     "metadata": {},
     "output_type": "execute_result"
    }
   ],
   "source": [
    "X = np.array([[1, 1, 1, 1, 1, 1, 1, 1, 1, 1],\n",
    "              [1, 1, 2, 5, 3, 0, 5, 10, 1, 2]])\n",
    "X"
   ]
  },
  {
   "cell_type": "code",
   "execution_count": 3,
   "metadata": {
    "colab": {
     "base_uri": "https://localhost:8080/",
     "height": 34
    },
    "colab_type": "code",
    "id": "ejifaMBe6VaP",
    "outputId": "190a541b-5c6d-48f6-8982-b513de5d7606"
   },
   "outputs": [
    {
     "data": {
      "text/plain": [
       "(2, 10)"
      ]
     },
     "execution_count": 3,
     "metadata": {},
     "output_type": "execute_result"
    }
   ],
   "source": [
    "X.shape"
   ]
  },
  {
   "cell_type": "code",
   "execution_count": 4,
   "metadata": {
    "colab": {},
    "colab_type": "code",
    "id": "VsNrKi1Q6Wmh"
   },
   "outputs": [],
   "source": [
    "y = [45, 55, 50, 55, 60, 35, 75, 80, 50, 60]"
   ]
  },
  {
   "cell_type": "markdown",
   "metadata": {},
   "source": [
    "Уравнение прямой: $y = a*x + b$"
   ]
  },
  {
   "cell_type": "code",
   "execution_count": 5,
   "metadata": {
    "colab": {},
    "colab_type": "code",
    "id": "NntLxvtU7CbH"
   },
   "outputs": [],
   "source": [
    "y_pred1 = 35 * np.ones(10) + X[1]*5\n",
    "y_pred2 = 40 * np.ones(10) + X[1]*7.5"
   ]
  },
  {
   "cell_type": "code",
   "execution_count": 6,
   "metadata": {
    "colab": {
     "base_uri": "https://localhost:8080/",
     "height": 282
    },
    "colab_type": "code",
    "id": "OTikrodr6n-i",
    "outputId": "9c347927-ae0d-40ba-bcd7-fdd9de2688bf"
   },
   "outputs": [
    {
     "data": {
      "image/png": "[encoded data removed]",
      "text/plain": [
       "<Figure size 432x288 with 1 Axes>"
      ]
     },
     "metadata": {
      "needs_background": "light"
     },
     "output_type": "display_data"
    }
   ],
   "source": [
    "plt.scatter(X[1], y)\n",
    "plt.plot(X[1], y_pred1, label='1')\n",
    "plt.plot(X[1], y_pred2, label='2')\n",
    "plt.legend()\n",
    "plt.show()"
   ]
  },
  {
   "cell_type": "markdown",
   "metadata": {},
   "source": [
    "Простая ошибка"
   ]
  },
  {
   "cell_type": "code",
   "execution_count": 7,
   "metadata": {
    "colab": {},
    "colab_type": "code",
    "id": "zbsqjAxH9WqI"
   },
   "outputs": [
    {
     "data": {
      "text/plain": [
       "(65.0, -60.0)"
      ]
     },
     "execution_count": 7,
     "metadata": {},
     "output_type": "execute_result"
    }
   ],
   "source": [
    "err1 = np.sum(y - y_pred1)\n",
    "err2 = np.sum(y - y_pred2)\n",
    "err1, err2"
   ]
  },
  {
   "cell_type": "markdown",
   "metadata": {},
   "source": [
    "MAE (Mean Absolute Error)"
   ]
  },
  {
   "cell_type": "code",
   "execution_count": 8,
   "metadata": {
    "colab": {},
    "colab_type": "code",
    "id": "vUqCthPf9eYI"
   },
   "outputs": [
    {
     "data": {
      "text/plain": [
       "(8.5, 9.0)"
      ]
     },
     "execution_count": 8,
     "metadata": {},
     "output_type": "execute_result"
    }
   ],
   "source": [
    "mae_1 = np.sum(np.abs(y - y_pred1)) / 10\n",
    "mae_2 = np.sum(np.abs(y - y_pred2)) / 10\n",
    "mae_1, mae_2"
   ]
  },
  {
   "cell_type": "markdown",
   "metadata": {},
   "source": [
    "MSE (Mean Squared Error)"
   ]
  },
  {
   "cell_type": "code",
   "execution_count": 9,
   "metadata": {
    "colab": {},
    "colab_type": "code",
    "id": "XTn2bZIg_EBS"
   },
   "outputs": [
    {
     "data": {
      "text/plain": [
       "(97.5, 188.75)"
      ]
     },
     "execution_count": 9,
     "metadata": {},
     "output_type": "execute_result"
    }
   ],
   "source": [
    "mse_1 = np.mean((y - y_pred1)**2)\n",
    "mse_2 = np.mean((y - y_pred2)**2)\n",
    "mse_1, mse_2"
   ]
  },
  {
   "cell_type": "markdown",
   "metadata": {
    "colab_type": "text",
    "id": "R4zHyZ2Da5HV"
   },
   "source": [
    "Метод наименьших квадратов (МНК)"
   ]
  },
  {
   "cell_type": "code",
   "execution_count": 10,
   "metadata": {
    "colab": {
     "base_uri": "https://localhost:8080/",
     "height": 34
    },
    "colab_type": "code",
    "id": "GEeiext0BR1m",
    "outputId": "2a5e98e6-e201-4cf9-c113-bb207490b31e"
   },
   "outputs": [
    {
     "data": {
      "text/plain": [
       "(2, 10)"
      ]
     },
     "execution_count": 10,
     "metadata": {},
     "output_type": "execute_result"
    }
   ],
   "source": [
    "X.shape"
   ]
  },
  {
   "cell_type": "code",
   "execution_count": 11,
   "metadata": {
    "colab": {
     "base_uri": "https://localhost:8080/",
     "height": 34
    },
    "colab_type": "code",
    "id": "j1BN1FZHBVo8",
    "outputId": "d5820bdf-e0a3-4de0-96ef-b73e9b43fd64"
   },
   "outputs": [
    {
     "data": {
      "text/plain": [
       "(10, 2)"
      ]
     },
     "execution_count": 11,
     "metadata": {},
     "output_type": "execute_result"
    }
   ],
   "source": [
    "X.T.shape"
   ]
  },
  {
   "cell_type": "code",
   "execution_count": 12,
   "metadata": {},
   "outputs": [
    {
     "data": {
      "text/plain": [
       "True"
      ]
     },
     "execution_count": 12,
     "metadata": {},
     "output_type": "execute_result"
    }
   ],
   "source": [
    "all(X @ y == np.dot(X,y))"
   ]
  },
  {
   "cell_type": "code",
   "execution_count": 13,
   "metadata": {
    "colab": {
     "base_uri": "https://localhost:8080/",
     "height": 34
    },
    "colab_type": "code",
    "id": "mnyZzkaDBegD",
    "outputId": "368800a6-deef-46d0-b27f-d6eb5e46a743"
   },
   "outputs": [
    {
     "data": {
      "text/plain": [
       "array([45.0625,  3.8125])"
      ]
     },
     "execution_count": 13,
     "metadata": {},
     "output_type": "execute_result"
    }
   ],
   "source": [
    "W = np.linalg.inv(np.dot(X, X.T)) @ X @ y\n",
    "W"
   ]
  },
  {
   "cell_type": "code",
   "execution_count": 14,
   "metadata": {},
   "outputs": [],
   "source": [
    "y_pred3 = W[0] * X[0] + W[1] * X[1]"
   ]
  },
  {
   "cell_type": "code",
   "execution_count": 15,
   "metadata": {
    "colab": {
     "base_uri": "https://localhost:8080/",
     "height": 282
    },
    "colab_type": "code",
    "id": "Lyg-J3H7Bnv5",
    "outputId": "7701dd28-d123-4773-cd1f-1439abfb6d90"
   },
   "outputs": [
    {
     "data": {
      "image/png": "[encoded data removed]",
      "text/plain": [
       "<Figure size 432x288 with 1 Axes>"
      ]
     },
     "metadata": {
      "needs_background": "light"
     },
     "output_type": "display_data"
    }
   ],
   "source": [
    "plt.scatter(X[1], y)\n",
    "plt.plot(X[1], y_pred1, label='1 - manual')\n",
    "plt.plot(X[1], y_pred2, label='2 - manual')\n",
    "plt.plot(X[1], y_pred3, label='3 - analytical solution')\n",
    "plt.legend()\n",
    "plt.show()"
   ]
  },
  {
   "cell_type": "code",
   "execution_count": 16,
   "metadata": {
    "colab": {},
    "colab_type": "code",
    "id": "JTSC2cFnCd8T"
   },
   "outputs": [],
   "source": [
    "def calc_mae(y, y_pred):\n",
    "    err = np.mean(np.abs(y - y_pred))\n",
    "    return err\n",
    "\n",
    "def calc_mse(y, y_pred):\n",
    "    err = np.mean((y - y_pred)**2) # <=> 1/n * np.sum((y_pred - y)**2)\n",
    "    return err"
   ]
  },
  {
   "cell_type": "code",
   "execution_count": 17,
   "metadata": {
    "colab": {
     "base_uri": "https://localhost:8080/",
     "height": 34
    },
    "colab_type": "code",
    "id": "MYSrwISJDGfS",
    "outputId": "891bfd3a-142c-466c-a9d9-7ebfb303e86c"
   },
   "outputs": [
    {
     "data": {
      "text/plain": [
       "(8.5, 97.5)"
      ]
     },
     "execution_count": 17,
     "metadata": {},
     "output_type": "execute_result"
    }
   ],
   "source": [
    "calc_mae(y, y_pred1), calc_mse(y, y_pred1)"
   ]
  },
  {
   "cell_type": "code",
   "execution_count": 18,
   "metadata": {
    "colab": {
     "base_uri": "https://localhost:8080/",
     "height": 34
    },
    "colab_type": "code",
    "id": "MYSrwISJDGfS",
    "outputId": "891bfd3a-142c-466c-a9d9-7ebfb303e86c"
   },
   "outputs": [
    {
     "data": {
      "text/plain": [
       "(9.0, 188.75)"
      ]
     },
     "execution_count": 18,
     "metadata": {},
     "output_type": "execute_result"
    }
   ],
   "source": [
    "calc_mae(y, y_pred2), calc_mse(y, y_pred2)"
   ]
  },
  {
   "cell_type": "code",
   "execution_count": 19,
   "metadata": {
    "colab": {
     "base_uri": "https://localhost:8080/",
     "height": 34
    },
    "colab_type": "code",
    "id": "_WtO6lvhDmQ6",
    "outputId": "8de8b895-85d8-448e-f565-b70e93a5dd25"
   },
   "outputs": [
    {
     "data": {
      "text/plain": [
       "(5.7875, 43.96875000000001)"
      ]
     },
     "execution_count": 19,
     "metadata": {},
     "output_type": "execute_result"
    }
   ],
   "source": [
    "calc_mae(y, y_pred3), calc_mse(y, y_pred3)"
   ]
  },
  {
   "cell_type": "markdown",
   "metadata": {
    "colab_type": "text",
    "id": "JAOgIXLRa--g"
   },
   "source": [
    "Градиентный спуск"
   ]
  },
  {
   "cell_type": "code",
   "execution_count": 20,
   "metadata": {
    "colab": {},
    "colab_type": "code",
    "id": "DNebwUP7Fd8F"
   },
   "outputs": [],
   "source": [
    "n = 10\n",
    "Q = 1/n * np.sum((y_pred3 - y)**2) # функционал ошибки, y = X*w"
   ]
  },
  {
   "cell_type": "code",
   "execution_count": 21,
   "metadata": {
    "colab": {},
    "colab_type": "code",
    "id": "5DKkvmkwHdOx"
   },
   "outputs": [],
   "source": [
    "alpha = 1e-2 # величина шага\n",
    "g = alpha * (1/n * 2 * np.sum(X[0] * (W[0] * X[0] - y)))"
   ]
  },
  {
   "cell_type": "code",
   "execution_count": 22,
   "metadata": {
    "colab": {
     "base_uri": "https://localhost:8080/",
     "height": 34
    },
    "colab_type": "code",
    "id": "ZVRCF5P2MYI6",
    "outputId": "0b0e2f05-a23c-4bf8-f37d-b4240d2e0af0"
   },
   "outputs": [
    {
     "data": {
      "text/plain": [
       "(45.062500000000014, 45.29125000000001)"
      ]
     },
     "execution_count": 22,
     "metadata": {},
     "output_type": "execute_result"
    }
   ],
   "source": [
    "W[0], W[0] - g"
   ]
  },
  {
   "cell_type": "markdown",
   "metadata": {},
   "source": [
    "### Д/З"
   ]
  },
  {
   "cell_type": "markdown",
   "metadata": {
    "colab_type": "text",
    "id": "huXrhXQsZTMt"
   },
   "source": [
    "1. Подберите скорость обучения (alpha) и количество итераций"
   ]
  },
  {
   "cell_type": "code",
   "execution_count": 106,
   "metadata": {
    "colab": {
     "base_uri": "https://localhost:8080/",
     "height": 185
    },
    "colab_type": "code",
    "id": "IDB22MQKMYaJ",
    "outputId": "4c03219e-a57c-4583-f439-6699fd0619bb"
   },
   "outputs": [
    {
     "name": "stdout",
     "output_type": "stream",
     "text": [
      "Number of objects = 10        \n",
      "Learning rate = 0.09        \n",
      "Initial weights = [1.  0.5] \n",
      "\n",
      "Iteration #0: W_new = [10.72 34.43], MSE = 3047.75\n",
      "Iteration #10: W_new = [ 2276.33841618 12409.86650201], MSE = 796432997.11\n",
      "Iteration #20: W_new = [ 262978.48744009 1450044.52016754], MSE = 14701686451429.96\n",
      "Iteration #30: W_new = [ 6241364.00818316 34418831.70511381], MSE = 1.1394319142061656e+16\n",
      "Iteration #40: W_new = [2.68067569e+07 1.47830133e+08], MSE = 2.95877572722467e+17\n",
      "Iteration #50: W_new = [17974890.99340411 99125318.78568748], MSE = 1.9286985343530672e+17\n",
      "Iteration #60: W_new = [1548373.20234155 8538524.82755655], MSE = 2157273408111675.0\n",
      "Iteration #70: W_new = [13147.39827568 72262.4199961 ], MSE = 245728807162.95\n",
      "Iteration #80: W_new = [52.01241529 44.55961881], MSE = 133904.39\n",
      "Iteration #90: W_new = [44.76446078  3.86739348], MSE = 44.01\n",
      "Iteration #100: W_new = [44.84630987  3.85170275], MSE = 43.99\n",
      "Iteration #110: W_new = [44.90104023  3.84177824], MSE = 43.98\n",
      "Iteration #120: W_new = [44.93862843  3.8349622 ], MSE = 43.98\n",
      "Iteration #130: W_new = [44.96512021  3.83015832], MSE = 43.97\n",
      "Iteration #140: W_new = [44.9842344   3.82669226], MSE = 43.97\n",
      "Iteration #150: W_new = [44.99832199  3.82413769], MSE = 43.97\n",
      "Iteration #160: W_new = [45.00890705  3.82221825], MSE = 43.97\n",
      "Iteration #170: W_new = [45.01700079  3.82075058], MSE = 43.97\n",
      "Iteration #180: W_new = [45.0232886   3.81961038], MSE = 43.97\n",
      "Iteration #190: W_new = [45.02824431  3.81871174], MSE = 43.97\n"
     ]
    }
   ],
   "source": [
    "n = X.shape[1]\n",
    "alpha = 9e-2\n",
    "W = np.array([1, 0.5])\n",
    "print(f'Number of objects = {n} \\\n",
    "       \\nLearning rate = {alpha} \\\n",
    "       \\nInitial weights = {W} \\n')\n",
    "\n",
    "for i in range(200):\n",
    "    y_pred = np.dot(W, X)\n",
    "    err = calc_mse(y, y_pred)\n",
    "    for k in range(W.shape[0]):\n",
    "        W[k] -= alpha * (1/n * 2 * np.sum(X[k] * (y_pred - y)))\n",
    "    if i % 10 == 0:\n",
    "        alpha /= 1.1\n",
    "        print(f'Iteration #{i}: W_new = {W}, MSE = {round(err,2)}')"
   ]
  },
  {
   "cell_type": "markdown",
   "metadata": {
    "colab_type": "text",
    "id": "5Qu1o4JhZYwI"
   },
   "source": [
    "*2. В этом коде мы избавляемся от итераций по весам, но тут есть ошибка, исправьте ее"
   ]
  },
  {
   "cell_type": "code",
   "execution_count": 129,
   "metadata": {
    "colab": {
     "base_uri": "https://localhost:8080/",
     "height": 185
    },
    "colab_type": "code",
    "id": "WZZzDCQLY4pA",
    "outputId": "28f58ade-72f2-4381-809d-2417752d56e4"
   },
   "outputs": [
    {
     "name": "stdout",
     "output_type": "stream",
     "text": [
      "Number of objects = 10        \n",
      "Learning rate = 0.09        \n",
      "Initial weights = [1.  0.5] \n",
      "\n",
      "Iteration #0: W_new = [10.72 34.43], MSE = 3047.75\n",
      "Iteration #10: W_new = [ 2276.33841618 12409.86650201], MSE = 796432997.11\n",
      "Iteration #20: W_new = [ 262978.48744009 1450044.52016754], MSE = 14701686451429.96\n",
      "Iteration #30: W_new = [ 6241364.00818316 34418831.70511381], MSE = 1.1394319142061656e+16\n",
      "Iteration #40: W_new = [2.68067569e+07 1.47830133e+08], MSE = 2.95877572722467e+17\n",
      "Iteration #50: W_new = [17974890.99340411 99125318.78568748], MSE = 1.9286985343530672e+17\n",
      "Iteration #60: W_new = [1548373.20234155 8538524.82755655], MSE = 2157273408111675.0\n",
      "Iteration #70: W_new = [13147.39827568 72262.4199961 ], MSE = 245728807162.95\n",
      "Iteration #80: W_new = [52.01241529 44.55961881], MSE = 133904.39\n",
      "Iteration #90: W_new = [44.76446078  3.86739348], MSE = 44.01\n",
      "Iteration #100: W_new = [44.84630987  3.85170275], MSE = 43.99\n",
      "Iteration #110: W_new = [44.90104023  3.84177824], MSE = 43.98\n",
      "Iteration #120: W_new = [44.93862843  3.8349622 ], MSE = 43.98\n",
      "Iteration #130: W_new = [44.96512021  3.83015832], MSE = 43.97\n",
      "Iteration #140: W_new = [44.9842344   3.82669226], MSE = 43.97\n",
      "Iteration #150: W_new = [44.99832199  3.82413769], MSE = 43.97\n",
      "Iteration #160: W_new = [45.00890705  3.82221825], MSE = 43.97\n",
      "Iteration #170: W_new = [45.01700079  3.82075058], MSE = 43.97\n",
      "Iteration #180: W_new = [45.0232886   3.81961038], MSE = 43.97\n",
      "Iteration #190: W_new = [45.02824431  3.81871174], MSE = 43.97\n"
     ]
    }
   ],
   "source": [
    "n = X.shape[1]\n",
    "alpha = 9e-2\n",
    "W = np.array([1, 0.5])\n",
    "print(f'Number of objects = {n} \\\n",
    "       \\nLearning rate = {alpha} \\\n",
    "       \\nInitial weights = {W} \\n')\n",
    "\n",
    "for i in range(200):\n",
    "    y_pred = np.dot(W, X)\n",
    "    err = calc_mse(y, y_pred)\n",
    "    #for k in range(W.shape[0]):\n",
    "    #     W[k] -= alpha * (1/n * 2 * np.sum(X[k] * (y_pred - y)))\n",
    "    W -= alpha * (1/n * 2 * np.sum(X * (y_pred - y), axis = 1))\n",
    "    #W_pred = W\n",
    "    if i % 10 == 0:\n",
    "        alpha /= 1.1\n",
    "        print(f'Iteration #{i}: W_new = {W}, MSE = {round(err,2)}')"
   ]
  },
  {
   "cell_type": "markdown",
   "metadata": {
    "colab_type": "text",
    "id": "5Qu1o4JhZYwI"
   },
   "source": [
    "*3. Вместо того, чтобы задавать количество итераций, задайте условие остановки алгоритма - когда ошибка за итерацию начинает изменяться ниже определенного порога (упрощенный аналог параметра tol в линейной регрессии в sklearn)."
   ]
  },
  {
   "cell_type": "code",
   "execution_count": 154,
   "metadata": {},
   "outputs": [
    {
     "name": "stdout",
     "output_type": "stream",
     "text": [
      "Number of objects = 10        \n",
      "Learning rate = 0.07        \n",
      "Initial weights = [1.  0.5] \n",
      "\n",
      "Iteration #10: W_new = [ -61.74739976 -461.29170849], MSE = 1880470.95\n",
      "Iteration #20: W_new = [ -656.95633884 -3799.43696088], MSE = 172642603.33\n",
      "Iteration #30: W_new = [ -888.23348518 -5103.37028257], MSE = 445840704.87\n",
      "Iteration #40: W_new = [-131.83078336 -947.45085347], MSE = 22983367.41\n",
      "Iteration #50: W_new = [ 38.81500366 -15.11679112], MSE = 14937.95\n",
      "Iteration #60: W_new = [43.23817011  4.11135069], MSE = 45.72\n",
      "Iteration #70: W_new = [43.80248706  4.04098155], MSE = 44.77\n",
      "Iteration #80: W_new = [44.15943609  3.97625672], MSE = 44.38\n",
      "Iteration #90: W_new = [44.39505787  3.93353034], MSE = 44.19\n",
      "Iteration #100: W_new = [44.55526297  3.90447962], MSE = 44.1\n",
      "Iteration #110: W_new = [44.66715058  3.88419052], MSE = 44.05\n",
      "Iteration #120: W_new = [44.74721554  3.86967197], MSE = 44.02\n",
      "Iteration #130: W_new = [44.80578521  3.85905127], MSE = 44.0\n",
      "Iteration #140: W_new = [44.84949528  3.85112512], MSE = 43.99\n",
      "Iteration #150: W_new = [44.88271243  3.8451017 ], MSE = 43.98\n",
      "Iteration #160: W_new = [44.90837415  3.84044835], MSE = 43.98\n",
      "Iteration #170: W_new = [44.92849702  3.83679937], MSE = 43.98\n",
      "Iteration #180: W_new = [44.94449174  3.83389898], MSE = 43.98\n",
      "Iteration #190: W_new = [44.95736245  3.83156507], MSE = 43.97\n"
     ]
    }
   ],
   "source": [
    "n = X.shape[1]\n",
    "alpha = 7e-2\n",
    "W = np.array([1, 0.5])\n",
    "print(f'Number of objects = {n} \\\n",
    "       \\nLearning rate = {alpha} \\\n",
    "       \\nInitial weights = {W} \\n')\n",
    "\n",
    "# Ошибка на предыдущем и на текущем шаге\n",
    "err_old = 100\n",
    "err = 0\n",
    "\n",
    "# критерий сходимости (разница ошибок, при которой алгоритм останавливается)\n",
    "min_err = 1e-4\n",
    "\n",
    "# счетчик итераций\n",
    "iter_num = 0\n",
    "# максимальное число итераций\n",
    "max_iter = 200\n",
    "\n",
    "while ( np.linalg.norm(err - err_old) > min_err) and (iter_num < max_iter):\n",
    "    y_pred = np.dot(W, X)    \n",
    "    err_old = err\n",
    "    err = calc_mse(y, y_pred)\n",
    "    W -= alpha * (1/n * 2 * np.sum(X * (y_pred - y), axis = 1))\n",
    "    \n",
    "    iter_num += 1\n",
    "    \n",
    "    if iter_num % 10 == 0:\n",
    "        alpha /= 1.1\n",
    "        print(f'Iteration #{iter_num}: W_new = {W}, MSE = {round(err,2)}')"
   ]
  },
  {
   "cell_type": "markdown",
   "metadata": {
    "collapsed": true
   },
   "source": [
    "4. Сделайте выводы по результатам работы с GD : что повышает качество результата, что понижает."
   ]
  },
  {
   "cell_type": "markdown",
   "metadata": {},
   "source": [
    "**Выводы:** \n",
    "\\\n",
    "После нескольких подборов скорости обучения и количества итераций, а так же изменяя стартовые веса по результатам обучения можно сделать вывод, что при скорости обучения 9e-2 мы выходим на стабильную ошибку MSE = 43.97 уже на 130 шаге.\n",
    "Смущает только то, что в самом начале обучения ошибка очень большая при скорости обучения более 7e-2. Если скорость обучения поставить 7e-2 и менее, то сходимость будет более стабильная, но при этом MSE равную 43.97 мы получим только на 250 шаге и более.\n",
    "\\\n",
    "Можно сказать, что качество модели может повышаться и понижаться как с разными коэфициентами скорости обучения так и с количеством итераций. Все зависит от начальных параметров модели и далее уже смотрим на ее поведение. Исходя из этого нужно настраивать параметры скорости обучения и количество итераций."
   ]
  },
  {
   "cell_type": "code",
   "execution_count": null,
   "metadata": {},
   "outputs": [],
   "source": []
  }
 ],
 "metadata": {
  "colab": {
   "collapsed_sections": [],
   "name": "Lesson1.ipynb",
   "provenance": []
  },
  "kernelspec": {
   "display_name": "Python 3 (ipykernel)",
   "language": "python",
   "name": "python3"
  },
  "language_info": {
   "codemirror_mode": {
    "name": "ipython",
    "version": 3
   },
   "file_extension": ".py",
   "mimetype": "text/x-python",
   "name": "python",
   "nbconvert_exporter": "python",
   "pygments_lexer": "ipython3",
   "version": "3.9.6"
  }
 },
 "nbformat": 4,
 "nbformat_minor": 1
}
